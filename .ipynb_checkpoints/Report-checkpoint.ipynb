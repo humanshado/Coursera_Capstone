{
 "cells": [
  {
   "cell_type": "markdown",
   "metadata": {},
   "source": [
    "### Problem Description\n",
    "\n",
    "With a population of almost 3 million as at 2016 estimates, Toronto is the most populous city in Canada. It is also the fastest growing city in North America (wikipedia) and is recognized as one of the most multicultural and cosmopolitan cities in the world. The diverse population of Toronto reflects its current and historical role as an important destination for immigrants to Canada. More than 50 percent of residents belong to a visible minority population group and over 200 distinct ethnic origins are represented among its inhabitants. \n",
    "\n",
    "\n",
    "As with any big city around the world, residents and newcomwers to Toronto are faced with a challenge on deciding which part of the city to settle, move to or open a business in order to enjoy the best of both worlds. For residents, communiting to and from work can be a daily pain most especially if living on the opposite edges of the city; finding suitable spots for weekend hang outs with friends can be a weekly debate sessions and setting up a new business can be tough due to the diverse nature of the city and the spread of the target customers. For newcomers to the city, the key considerations are usually affordable housing, schools for their young kids, community engagements and easy access to grocery stores and shopping. This is a top challenge that requires a solution to help guide these categories of people living in Toronto or planning to make a move into the city. \n",
    "\n",
    "This analysis will attempt to provide a data-driven guided tour of all that is or is not available to make an informed decision to make that move to a new neighborhood, settle in open or expand that business into a new neigborhood in the city."
   ]
  },
  {
   "cell_type": "code",
   "execution_count": null,
   "metadata": {},
   "outputs": [],
   "source": []
  },
  {
   "cell_type": "markdown",
   "metadata": {},
   "source": [
    "### Data Description\n",
    "\n",
    "The data to be used for this analysis will be pulled from location data provided through Foursquare API. For each neighbourhood in Toronto, all places of interests such as restaurants, coffee shops, parks, schools, shopping malls, farmers markets, recreation centers, etc, would be categorised and ranked. This would give an a user an idea of what is obtainable or not in each neighbourhood in order to make an informed decision on where to move or settle. To guide a business owner on where to set up the next shop or open a new office, the analysis would provide a picture of possible demand by providing additional data on the number of households or population in each neighborhood. "
   ]
  },
  {
   "cell_type": "markdown",
   "metadata": {},
   "source": []
  }
 ],
 "metadata": {
  "kernelspec": {
   "display_name": "Python 3",
   "language": "python",
   "name": "python3"
  },
  "language_info": {
   "codemirror_mode": {
    "name": "ipython",
    "version": 3
   },
   "file_extension": ".py",
   "mimetype": "text/x-python",
   "name": "python",
   "nbconvert_exporter": "python",
   "pygments_lexer": "ipython3",
   "version": "3.7.3"
  }
 },
 "nbformat": 4,
 "nbformat_minor": 2
}
